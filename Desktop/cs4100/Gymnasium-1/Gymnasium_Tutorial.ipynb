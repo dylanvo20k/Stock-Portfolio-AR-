{
 "cells": [
  {
   "cell_type": "markdown",
   "id": "cac53cf9-7bfa-4da8-9506-c2dba2dda92e",
   "metadata": {},
   "source": [
    "Lab : Intro to Gymnasium\n",
    "----\n",
    "\n",
    "As we are steadily advancing towards Reinforcement Learning in class, it's time to get our hands dirty with a cool Python package. Gymnasium, originally developed by OpenAI is a useful tool that is commonly used for solving RL-related challenges. With Gymnasium, users can easily design, implement, and evaluate reinforcement learning algorithms by leveraging predefined environments such as classic control tasks, Atari 2600 games, and more. Furthermore, Gymnasium provides an easy API to implement your own environments!"
   ]
  },
  {
   "cell_type": "markdown",
   "id": "b52ed948-05a8-4a3f-9a66-c2a754c8b329",
   "metadata": {},
   "source": [
    "First, let's get started with installing Gymnasium!\n",
    "\n",
    "Step 1. Make sure you have python and pip installed. Check the installation of python and pip using\n",
    "- `python --version` and `pip --version`\n",
    "If pip is not installed:\n",
    "- Follow the steps listed for your respective operating system at [Pip Docs - Installation](https://pip.pypa.io/en/stable/installation/).\n",
    "\n",
    "Step 2. Now execute `pip install gym` in your terminal to install gymnasium or run the cell below."
   ]
  },
  {
   "cell_type": "code",
   "execution_count": 13,
   "id": "5b3d3a92-0ace-4d2b-9389-93d9fd4699f3",
   "metadata": {},
   "outputs": [
    {
     "name": "stdout",
     "output_type": "stream",
     "text": [
      "Requirement already satisfied: gym in /opt/anaconda3/envs/cs4100/lib/python3.11/site-packages (0.26.2)\n",
      "Requirement already satisfied: numpy>=1.18.0 in /opt/anaconda3/envs/cs4100/lib/python3.11/site-packages (from gym) (1.24.3)\n",
      "Requirement already satisfied: cloudpickle>=1.2.0 in /opt/anaconda3/envs/cs4100/lib/python3.11/site-packages (from gym) (3.1.1)\n",
      "Requirement already satisfied: gym_notices>=0.0.4 in /opt/anaconda3/envs/cs4100/lib/python3.11/site-packages (from gym) (0.1.0)\n"
     ]
    }
   ],
   "source": [
    "!pip install gym"
   ]
  },
  {
   "cell_type": "markdown",
   "id": "1ccaff9a-c81d-4889-9236-b65341252f47",
   "metadata": {},
   "source": [
    "Now to verify installation of gym execute the cell below"
   ]
  },
  {
   "cell_type": "code",
   "execution_count": 14,
   "id": "af7d2e68-590a-450e-8e64-a031afabe535",
   "metadata": {},
   "outputs": [
    {
     "name": "stderr",
     "output_type": "stream",
     "text": [
      "Gym has been unmaintained since 2022 and does not support NumPy 2.0 amongst other critical functionality.\n",
      "Please upgrade to Gymnasium, the maintained drop-in replacement of Gym, or contact the authors of your software and request that they upgrade.\n",
      "Users of this version of Gym should be able to simply replace 'import gym' with 'import gymnasium as gym' in the vast majority of cases.\n",
      "See the migration guide at https://gymnasium.farama.org/introduction/migration_guide/ for additional information.\n"
     ]
    }
   ],
   "source": [
    "import gym"
   ]
  },
  {
   "cell_type": "markdown",
   "id": "2d3c4595-a2f2-4995-a65f-74d48bb57b48",
   "metadata": {},
   "source": [
    "Great! Now let's talk about environments!\n",
    "\n",
    "The fundamental building block of OpenAI Gym is the `Env` class. It is a Python class that implements a simulator that runs the  environment you want to train your agent in. Open AI Gym comes packed with a lot of environments, such as one where you can move a car up a hill, balance a swinging pendulum etc. Take a moment now to visit [Gymnasium - Farama](https://gymnasium.farama.org/) to see the complete list of environments, along with demonstrations of what the task in each environment is.\n",
    "\n",
    "In this lab, we will begin with the `MountainCar` environment. Our goal is to control a car on a track positioned between two mountains. The objective is to drive up the mountain on the right, but the car's engine lacks the power to climb it directly. To solve this problem, we require the car to make strategic back-and-forth movements to build momentum.\n",
    "\n",
    "Let's see how we can train our car to climb up the mountain using gymnasium."
   ]
  },
  {
   "cell_type": "markdown",
   "id": "a7c64f01-9657-4071-a037-71919d671119",
   "metadata": {},
   "source": [
    "## Part 1"
   ]
  },
  {
   "cell_type": "code",
   "execution_count": 15,
   "id": "eb0da5d9-ba4b-4764-accf-1ca1e05948f4",
   "metadata": {},
   "outputs": [],
   "source": [
    "# While creating our mountain car environment, render_mode is an optional argument.\n",
    "# It is used to render the environment visually when needed.\n",
    "# For more details, visit https://gymnasium.farama.org/api/env/\n",
    "\n",
    "env = gym.make('MountainCar-v0', render_mode=\"rgb_array\")"
   ]
  },
  {
   "cell_type": "markdown",
   "id": "3be7abdf-d9b9-42b4-9a8c-2efa1997704d",
   "metadata": {},
   "source": [
    "In Reinforcement Learning, we think of two key terms - the `Observation Space` and `Action space`.\n",
    "\n",
    "The `Observation Space` is the set of all possible observations that an agent can receive from the environment. These observations provide information about the current state of the environment. Observations can be diverse and may include sensor readings, images, or any relevant data that helps the agent make decisions.\n",
    "\n",
    "For example, for an agent trying to learn how to shoot a target the observation space can include - the agent's current position or location, the position and movement of the target, information about obstacles or barriers in the environment if any, and the agent's ammunition status or the number of bullets remaining.\n",
    "\n",
    "The `Action Space` represents the set of possible actions that the agent can take to interact with the environment. These actions represent the decisions or movements that the agent can make to interact with the environment.\n",
    "\n",
    "For example for an agent trying to learn how to shoot a target the action space can include - adjusting the aim or direction of the firearm, pulling the trigger to shoot, reloading the firearm, and changing the stance or position of the agent.\n",
    "\n",
    "The basic structure of the environment is described by the observation_space and the action_space attributes of the Gym Env class."
   ]
  },
  {
   "cell_type": "markdown",
   "id": "480cd8d0-0dfc-4d21-b5f4-48f74d1bb7a6",
   "metadata": {},
   "source": [
    "## To-do\n",
    "Can you guess what the observation space and action space of the mountain car problem would be? Write your answer below. Try to provide 2-3 examples for each.\n"
   ]
  },
  {
   "cell_type": "code",
   "execution_count": 16,
   "id": "78f0ae5a-1466-47a2-9a0f-fe36d6511653",
   "metadata": {},
   "outputs": [],
   "source": [
    "#### YOUR ANSWER HERE\n",
    "\n",
    "### Observation space: The car's potential energy, velocity, and position\n",
    "\n",
    "### Action space: Accelerate left, Accelerate right, Do nothing"
   ]
  },
  {
   "cell_type": "code",
   "execution_count": 17,
   "id": "d161a237-b07c-4228-8f41-e422a45ccc49",
   "metadata": {},
   "outputs": [
    {
     "name": "stdout",
     "output_type": "stream",
     "text": [
      "The observation space: Box([-1.2  -0.07], [0.6  0.07], (2,), float32)\n",
      "The action space: Discrete(3)\n"
     ]
    }
   ],
   "source": [
    "# Observation and action space for mountain-view problem\n",
    "obs_space = env.observation_space\n",
    "action_space = env.action_space\n",
    "print(\"The observation space: {}\".format(obs_space))\n",
    "print(\"The action space: {}\".format(action_space))"
   ]
  },
  {
   "cell_type": "markdown",
   "id": "ee6e1260-0405-497b-b1a8-3c4033200966",
   "metadata": {},
   "source": [
    "The observation_space for our environment is a Box with shape (2,), and returns two lists with entries of type float32.\n",
    "The action_space was Discrete with shape (2).\n",
    "\n",
    "What do these actually mean?\n",
    "\n",
    "Both Box and Discrete are types of data structures called \"Spaces\" provided by Gym, modeling various aspects of the problem at hand. All of these data structures are derived from the gym.Space base class.\n",
    "\n",
    "Box, for instance, is used when modeling real-valued quantities, i.e. a continuous space. The printed output can be a bit tricky to read - the first list in the observation space above contains minimum values for the set of quantities that are modeled, and the second list contains the maxima.\n",
    "\n",
    "For this particular problem (Mountain Car), the values at index 0 within both lists refer to the minimum and maximum value of the car's position along the x-axis, i.e. the car will always be between x=-1.2 and x=0.6. The values at index 1 represent the range of the velocity, i.e. the car's speed will be between -0.07 and 0.07. Both these values are allowed to vary continuously with the precision of the float32 dtype.\n",
    "\n",
    "Discrete, on the other hand, signifies that there are a finite number of options to choose from. In this case, Discrete(3) represents the fact that the agent has three choices: 0: accelerate left, 1: don't accelerate, and 2: accelerate right. The easiest way to find descriptions for actions (and their indices) is to visit the [Gymnasium page for that task](https://gymnasium.farama.org/environments/classic_control/mountain_car/)."
   ]
  },
  {
   "cell_type": "code",
   "execution_count": 18,
   "id": "65911af6-c32d-45bc-aa78-a5257e3b9195",
   "metadata": {},
   "outputs": [
    {
     "name": "stdout",
     "output_type": "stream",
     "text": [
      "Upper Bound for Env Observation [0.6  0.07]\n",
      "Lower Bound for Env Observation [-1.2  -0.07]\n"
     ]
    }
   ],
   "source": [
    "print(\"Upper Bound for Env Observation\", env.observation_space.high)\n",
    "print(\"Lower Bound for Env Observation\", env.observation_space.low)"
   ]
  },
  {
   "cell_type": "markdown",
   "id": "8ca0d771-dee2-4571-b337-1abb978f9549",
   "metadata": {},
   "source": [
    "You can set these upper/lower limits while defining your space, as well as when you are creating an environment.\n",
    "\n",
    "From here on, remember that an observation for the mountain car environment is a vector of two numbers, representing position and velocity respectively. The middle point between the two mountains in the environment is taken to be the origin, with the right being considered the positive direction and the left being the negative direction."
   ]
  },
  {
   "cell_type": "markdown",
   "id": "f02de71b-4878-4222-ba60-262972798b87",
   "metadata": {},
   "source": [
    "Now let's talk about how the env class helps the agent interact with the environment!\n",
    "\n",
    "`reset`: This function returns the initial observation of the environment after placing the agent back in its starting state. Our first observation in any RL task implemented using Gymnasium must be obtained by calling this function. This function should also be called every time a terminal/end state is reached.\n",
    "`step`: This function takes an action as input, applies it to the environment, and returns the following:\n",
    "- `observation`: The current state of the environment after the action is taken.\n",
    "- `reward`: The reward obtained from the action.\n",
    "- `terminated`: Return true or false, depending on whether the agent has reached a terminal state (as defined under the task).\n",
    "- `truncated`: Determine if the truncation condition, often a time limit or agent going out of bounds, is satisfied. This can prompt an early episode termination before reaching a terminal state. Think of this as cases that may end a game preemptively.\n",
    "- `info`: Extra information for debugging or environment-specific details, such as lives remaining.\n",
    "\n",
    "Next, we demonstrate the step function, which is how we get the agent to execute an action in a Gymnasium environment. For now, we will simply pick a random action from the environment's action space."
   ]
  },
  {
   "cell_type": "code",
   "execution_count": 19,
   "id": "d1898f7c-34f7-4501-abb2-acc459a90bcf",
   "metadata": {},
   "outputs": [
    {
     "name": "stdout",
     "output_type": "stream",
     "text": [
      "The initial observation is (array([-0.5630212,  0.       ], dtype=float32), {})\n",
      "The new observation is [-5.627262e-01  2.949792e-04]\n"
     ]
    },
    {
     "name": "stderr",
     "output_type": "stream",
     "text": [
      "/opt/anaconda3/envs/cs4100/lib/python3.11/site-packages/gym/utils/passive_env_checker.py:233: DeprecationWarning: `np.bool8` is a deprecated alias for `np.bool_`.  (Deprecated NumPy 1.24)\n",
      "  if not isinstance(terminated, (bool, np.bool8)):\n"
     ]
    }
   ],
   "source": [
    "# reset the environment and see the initial observation\n",
    "obs = env.reset()\n",
    "print(\"The initial observation is {}\".format(obs))\n",
    "\n",
    "# Sample a random action from the entire action space\n",
    "random_action = env.action_space.sample()\n",
    "\n",
    "# # Take the action and get the new observation space\n",
    "new_obs, reward, terminated, truncated, info = env.step(random_action)\n",
    "print(\"The new observation is {}\".format(new_obs))"
   ]
  },
  {
   "cell_type": "code",
   "execution_count": 20,
   "id": "d3e61c01-ae9a-4d66-923e-b77aa005d63e",
   "metadata": {},
   "outputs": [
    {
     "name": "stdout",
     "output_type": "stream",
     "text": [
      "Found existing installation: pygame 2.6.1\n",
      "Uninstalling pygame-2.6.1:\n",
      "  Successfully uninstalled pygame-2.6.1\n",
      "Collecting pygame\n",
      "  Using cached pygame-2.6.1-cp311-cp311-macosx_11_0_arm64.whl.metadata (12 kB)\n",
      "Using cached pygame-2.6.1-cp311-cp311-macosx_11_0_arm64.whl (12.4 MB)\n",
      "Installing collected packages: pygame\n",
      "Successfully installed pygame-2.6.1\n",
      "Requirement already satisfied: gym[classic_control] in /opt/anaconda3/envs/cs4100/lib/python3.11/site-packages (0.26.2)\n",
      "Requirement already satisfied: numpy>=1.18.0 in /opt/anaconda3/envs/cs4100/lib/python3.11/site-packages (from gym[classic_control]) (1.24.3)\n",
      "Requirement already satisfied: cloudpickle>=1.2.0 in /opt/anaconda3/envs/cs4100/lib/python3.11/site-packages (from gym[classic_control]) (3.1.1)\n",
      "Requirement already satisfied: gym_notices>=0.0.4 in /opt/anaconda3/envs/cs4100/lib/python3.11/site-packages (from gym[classic_control]) (0.1.0)\n",
      "Collecting pygame==2.1.0 (from gym[classic_control])\n",
      "  Using cached pygame-2.1.0.tar.gz (5.8 MB)\n",
      "  Preparing metadata (setup.py) ... \u001B[?25lerror\n",
      "  \u001B[1;31merror\u001B[0m: \u001B[1msubprocess-exited-with-error\u001B[0m\n",
      "  \n",
      "  \u001B[31m×\u001B[0m \u001B[32mpython setup.py egg_info\u001B[0m did not run successfully.\n",
      "  \u001B[31m│\u001B[0m exit code: \u001B[1;36m1\u001B[0m\n",
      "  \u001B[31m╰─>\u001B[0m \u001B[31m[31 lines of output]\u001B[0m\n",
      "  \u001B[31m   \u001B[0m \n",
      "  \u001B[31m   \u001B[0m \n",
      "  \u001B[31m   \u001B[0m WARNING, No \"Setup\" File Exists, Running \"buildconfig/config.py\"\n",
      "  \u001B[31m   \u001B[0m Using Darwin configuration...\n",
      "  \u001B[31m   \u001B[0m \n",
      "  \u001B[31m   \u001B[0m /bin/sh: sdl2-config: command not found\n",
      "  \u001B[31m   \u001B[0m /bin/sh: sdl2-config: command not found\n",
      "  \u001B[31m   \u001B[0m /bin/sh: sdl2-config: command not found\n",
      "  \u001B[31m   \u001B[0m \n",
      "  \u001B[31m   \u001B[0m ---\n",
      "  \u001B[31m   \u001B[0m For help with compilation see:\n",
      "  \u001B[31m   \u001B[0m     https://www.pygame.org/wiki/MacCompile\n",
      "  \u001B[31m   \u001B[0m To contribute to pygame development see:\n",
      "  \u001B[31m   \u001B[0m     https://www.pygame.org/contribute.html\n",
      "  \u001B[31m   \u001B[0m ---\n",
      "  \u001B[31m   \u001B[0m \n",
      "  \u001B[31m   \u001B[0m Traceback (most recent call last):\n",
      "  \u001B[31m   \u001B[0m   File \"<string>\", line 2, in <module>\n",
      "  \u001B[31m   \u001B[0m   File \"<pip-setuptools-caller>\", line 35, in <module>\n",
      "  \u001B[31m   \u001B[0m   File \"/private/var/folders/p6/8f48hsn176503d_vqvf_hc800000gn/T/pip-install-7ys48pc3/pygame_d8aaccdbf83f4aef898c0a97738c5283/setup.py\", line 388, in <module>\n",
      "  \u001B[31m   \u001B[0m     buildconfig.config.main(AUTO_CONFIG)\n",
      "  \u001B[31m   \u001B[0m   File \"/private/var/folders/p6/8f48hsn176503d_vqvf_hc800000gn/T/pip-install-7ys48pc3/pygame_d8aaccdbf83f4aef898c0a97738c5283/buildconfig/config.py\", line 234, in main\n",
      "  \u001B[31m   \u001B[0m     deps = CFG.main(**kwds)\n",
      "  \u001B[31m   \u001B[0m            ^^^^^^^^^^^^^^^^\n",
      "  \u001B[31m   \u001B[0m   File \"/private/var/folders/p6/8f48hsn176503d_vqvf_hc800000gn/T/pip-install-7ys48pc3/pygame_d8aaccdbf83f4aef898c0a97738c5283/buildconfig/config_darwin.py\", line 132, in main\n",
      "  \u001B[31m   \u001B[0m     [DependencyProg('SDL', 'SDL_CONFIG', 'sdl2-config', '2.0', ['sdl'])],\n",
      "  \u001B[31m   \u001B[0m      ^^^^^^^^^^^^^^^^^^^^^^^^^^^^^^^^^^^^^^^^^^^^^^^^^^^^^^^^^^^^^^^^^^\n",
      "  \u001B[31m   \u001B[0m   File \"/private/var/folders/p6/8f48hsn176503d_vqvf_hc800000gn/T/pip-install-7ys48pc3/pygame_d8aaccdbf83f4aef898c0a97738c5283/buildconfig/config_unix.py\", line 39, in __init__\n",
      "  \u001B[31m   \u001B[0m     self.ver = config[0].strip()\n",
      "  \u001B[31m   \u001B[0m                ~~~~~~^^^\n",
      "  \u001B[31m   \u001B[0m IndexError: list index out of range\n",
      "  \u001B[31m   \u001B[0m \u001B[31m[end of output]\u001B[0m\n",
      "  \n",
      "  \u001B[1;35mnote\u001B[0m: This error originates from a subprocess, and is likely not a problem with pip.\n",
      "\u001B[?25h\u001B[1;31merror\u001B[0m: \u001B[1mmetadata-generation-failed\u001B[0m\n",
      "\n",
      "\u001B[31m×\u001B[0m Encountered error while generating package metadata.\n",
      "\u001B[31m╰─>\u001B[0m See above for output.\n",
      "\n",
      "\u001B[1;35mnote\u001B[0m: This is an issue with the package mentioned above, not pip.\n",
      "\u001B[1;36mhint\u001B[0m: See above for details.\n"
     ]
    }
   ],
   "source": [
    "# This step is optional and only needs to be executed if you want to render and view the environment.\n",
    "# May be finicky on MacOS. It's fine to skip it for now!\n",
    "!pip uninstall -y pygame\n",
    "!pip install pygame --pre\n",
    "!pip install 'gym[classic_control]'"
   ]
  },
  {
   "cell_type": "code",
   "execution_count": 21,
   "id": "28d9d259-6933-420a-8201-a536429bec29",
   "metadata": {},
   "outputs": [],
   "source": [
    "env.close()\n",
    "# only way to end a simulation"
   ]
  },
  {
   "cell_type": "markdown",
   "id": "68f1cd30-8d74-4d44-8bbf-422034a674af",
   "metadata": {},
   "source": [
    "# To-do\n",
    "Now it's your turn to try writing code to see how far up the hill this cart can go by taking random steps in this environment.\\\n",
    "**Since we are not training the agent at all, we don't expect to see much progress**, but this should give us a good idea of how gymnasium works."
   ]
  },
  {
   "cell_type": "markdown",
   "id": "61e95af7-3928-4a67-96f0-042eb1813e73",
   "metadata": {},
   "source": [
    "#### To Ponder:\n",
    "\n",
    "In the previous code block where we were taking actions, we didn't use the agent's state and reward to decide the best action from the new state. All the generated actions are random, and you'll be doing the same thing below. We'll learn how to train agents in lecture!"
   ]
  },
  {
   "cell_type": "code",
   "execution_count": null,
   "id": "cef06417-1720-42fd-9045-0cef49e52bea",
   "metadata": {},
   "outputs": [
    {
     "data": {
      "image/png": "[encoded data removed]",
      "text/plain": [
       "<Figure size 640x480 with 1 Axes>"
      ]
     },
     "metadata": {},
     "output_type": "display_data"
    }
   ],
   "source": [
    "import time\n",
    "from IPython import display\n",
    "import matplotlib.pyplot as plt\n",
    "plt.ion()\n",
    "env_screen= None\n",
    "\n",
    "# Number of steps you run the agent for\n",
    "# This may take a few minutes to execute depending on the number of steps\n",
    "num_steps = 2000\n",
    "\n",
    "# reset the environment here\n",
    "obs = env.reset()\n",
    "\n",
    "plt.figure()\n",
    "\n",
    "for step in range(num_steps):\n",
    "    # Render the env here (Rendering might take longer for the cell to execute.\n",
    "    # Stop execution once you get a sense of what's happening and move on to the next part of the lab).\n",
    "    plt.imshow(env.render())\n",
    "    display.display(plt.gcf())\n",
    "    display.clear_output(wait=True)\n",
    "\n",
    "    # take random action (based on examples above)\n",
    "    random_action = env.action_space.sample()\n",
    "\n",
    "    # apply the action using env.step here\n",
    "    new_obs, reward, terminated, truncated, info = env.step(random_action)\n",
    "\n",
    "    # If the episode is finished (i.e., terminated or truncated), then reset the env and start another one;\n",
    "    if terminated or truncated:\n",
    "        obs, info = env.reset()\n",
    "        break\n",
    "\n",
    "# Close the env\n",
    "env.close()"
   ]
  },
  {
   "cell_type": "markdown",
   "id": "8741d2e0-62c9-4884-92ea-c7eec4d23900",
   "metadata": {},
   "source": [
    "## Part 2\n",
    "\n",
    "Now that we have seen how to use gymnasium using its default environment, let's see how can we build a custom environment and perform actions in it. This particular custom environment is built using the gymnasium extension for Markov Decision Processes."
   ]
  },
  {
   "cell_type": "markdown",
   "id": "b744f4c8-a757-45a1-9e64-627d1d88a589",
   "metadata": {},
   "source": [
    "Let's consider a 3x3 grid where the action space is to move up, down, left, or right. An action that takes you out of the grid is considered invalid. The red cells in the grid represent a reward of -20, the yellow cell has a reward of +5 and the green one has a reward of +10. Consider the green cell as the final goal state, which is where we want our agent to go. There is an equal probability of taking any valid action from a given cell.\n",
    "\n",
    "Here's how the grid is defined **(on a Euclidean plane)**:\n",
    "\n",
    "Cell 0 - 0,0 (start)\\\n",
    "Cell 1 - 0,1\\\n",
    "Cell 2 - 0,2\\\n",
    "Cell 3 - 1,0\\\n",
    "Cell 4 - 1,1\\\n",
    "Cell 5 - 1,2\\\n",
    "Cell 6 - 2,0 (goal)\\\n",
    "Cell 7 - 2,1\\\n",
    "Cell 8 - 2,2\n",
    "\n",
    "<div><img src=\"./grid.png\", style=\"width:400px\"/></div>"
   ]
  },
  {
   "cell_type": "code",
   "execution_count": null,
   "id": "df2e21d5-cf0c-48ca-a5ec-5b1be49ed96f",
   "metadata": {},
   "outputs": [],
   "source": [
    "!pip install matrix-mdp-gym"
   ]
  },
  {
   "cell_type": "code",
   "execution_count": null,
   "id": "be1e5434-274a-4e43-8424-a8543f97b420",
   "metadata": {},
   "outputs": [],
   "source": [
    "import numpy as np\n",
    "\n",
    "num_states = 9 # total number of cells\n",
    "num_actions = 4 # up, down, left, right\n",
    "num_terminal_states = 1 # initilaise the number of terminal goal states"
   ]
  },
  {
   "cell_type": "code",
   "execution_count": null,
   "id": "5758daba-44c3-4f45-b859-7f5958185ee1",
   "metadata": {},
   "outputs": [],
   "source": [
    "#To-do:\n",
    "# Initialise the action map as a dictionary, just to save human readable labels. 0 maps to 'up', 1 to 'down', 2 to 'left', and 3 to 'right'.\n",
    "A = {\n",
    "    0: 'up',\n",
    "    1: 'down',\n",
    "    2: 'left',\n",
    "    3: 'right'\n",
    "}"
   ]
  },
  {
   "cell_type": "code",
   "execution_count": null,
   "id": "5fe8bc81-5b56-498d-bea9-41891a5f5674",
   "metadata": {},
   "outputs": [],
   "source": [
    "# To-do: fill in and complete the state_action_map here, this is a map of all the valid actions from a given state.\n",
    "# Values for cell 0 and 6 are filled in for you\n",
    "# (from cell 0 we can go to the cell above it, or the cell to its right.\n",
    "# The action map values, therefore, are 0 and 3. For cell 6, since this state is terminal, there are no actions from it.\n",
    "\n",
    "# While we are hardcoding this for now, you should consider writing code\n",
    "# that generates this map using the rules of your environment in general.\n",
    "\n",
    "states_actions_map = {\n",
    "    0: [0, 3],\n",
    "    # COMPLETE THE MAP\n",
    "    1: [0, 2, 3],\n",
    "    2: [0, 2],\n",
    "    3: [0, 1, 3],\n",
    "    4: [0, 1, 2, 3],\n",
    "    5: [0, 1, 2],\n",
    "    7: [1, 2, 3],\n",
    "    8: [1, 2],\n",
    "    6: [],\n",
    "}"
   ]
  },
  {
   "cell_type": "code",
   "id": "3a1f95d0-b87f-4737-b64f-29ada8813b84",
   "metadata": {
    "ExecuteTime": {
     "end_time": "2025-09-19T20:12:26.931517Z",
     "start_time": "2025-09-19T20:12:26.904808Z"
    }
   },
   "source": [
    "import numpy as np\n",
    "\n",
    "# 1. Initialize transition and reward matrices.\n",
    "states_actions_map = {\n",
    "    0: [0, 3],\n",
    "    # COMPLETE THE MAP\n",
    "    1: [0, 2, 3],\n",
    "    2: [0, 2],\n",
    "    3: [0, 1, 3],\n",
    "    4: [0, 1, 2, 3],\n",
    "    5: [0, 1, 2],\n",
    "    7: [1, 2, 3],\n",
    "    8: [1, 2],\n",
    "    6: [],\n",
    "}\n",
    "\n",
    "num_states = 9\n",
    "num_actions = 4\n",
    "\n",
    "T = np.zeros((num_states, num_states, num_actions))\n",
    "R = np.zeros((num_states, num_states, num_actions))\n",
    "\n",
    "# 2. Fill in the transition matrix with the correct values.\n",
    "\n",
    "    # The matrix T represents transition probabilities, i.e., the probability of moving to state j from state i using action a.\n",
    "    # In uncertain environments, an action may have a small probability of failing and leading you to a different state than intended.\n",
    "    # For now, assume that the probability of failure is 0, i.e., an up action, for instance,\n",
    "    # will always take you to the cell above your current state, as long as such a cell exists.\n",
    "\n",
    "    # Note that T is a 3-dimensional matrix. Entries should be made at the index [new_state][current_state][action].\n",
    "    # For example, T[1][0][3] = 1 means that if we take action 3 (right) from cell 0 (start), the probability of reaching the cell 1 is 1.\n",
    "    # Use numpy operations to fill in the correct values in the matrix T.\n",
    "\n",
    "\n",
    "def get_next_state(state, action):\n",
    "    \"\"\"\n",
    "    returns the next state given current state and action\n",
    "    returns -1 if action is invalid\n",
    "    \"\"\"\n",
    "    # convert state number to (row, col) coord\n",
    "    row = state // 3\n",
    "    col = state % 3\n",
    "\n",
    "\n",
    "    if action == 0:  # up\n",
    "        new_row, new_col = row + 1, col\n",
    "    elif action == 1:  # down\n",
    "        new_row, new_col = row - 1, col\n",
    "    elif action == 2:  # left\n",
    "        new_row, new_col = row, col - 1\n",
    "    elif action == 3:  # right\n",
    "        new_row, new_col = row, col + 1\n",
    "    else:\n",
    "        return -1\n",
    "\n",
    "    # check bounds\n",
    "    if new_row < 0 or new_row >= 3 or new_col < 0 or new_col >= 3:\n",
    "        return -1\n",
    "\n",
    "    # convert back to state number\n",
    "    return new_row * 3 + new_col\n",
    "\n",
    "# initialize transition and reward matrices\n",
    "T = np.zeros((num_states, num_states, num_actions))\n",
    "R = np.zeros((num_states, num_states, num_actions))\n",
    "\n",
    "# fill in the transition matrix\n",
    "for current_state in range(num_states):\n",
    "    # skip terminal state\n",
    "    if current_state == 6:\n",
    "        continue\n",
    "\n",
    "    valid_actions = states_actions_map[current_state]\n",
    "\n",
    "    for action in range(num_actions):\n",
    "        if action in valid_actions:\n",
    "            next_state = get_next_state(current_state, action)\n",
    "            if next_state != -1:\n",
    "                T[next_state][current_state][action] = 1.0\n",
    "\n",
    "\n",
    "# 3. Fill in the reward matrix with the correct values.\n",
    "\n",
    "    # The matrix R represents the rewards obtained by moving to state j from state i using action a.\n",
    "    # The red cells in the grid have a reward of -20, the yellow cell has a reward of +5, and the green one has a reward of +10.\n",
    "    # Assume rewards don't depend on the action used or the cell from which the agent moved to one of these cells for now.\n",
    "\n",
    "    # Entries should once again be made at the index [new_state][current_state][action].\n",
    "    # For example, R[2][1][3] = -20 indicates that if we take action 3 from cell 1 and reach cell 2, the reward is -20.\n",
    "    # Update the entries in the matrix R with the correct values below.\n",
    "\n",
    "cell_rewards = {\n",
    "    0: 0,   # start cell - no reward\n",
    "    1: 0,   # neutral cell\n",
    "    2: -20, # red cell\n",
    "    3: 0,   # neutral cell\n",
    "    4: 0,   # neutral cell\n",
    "    5: 5,   # yellow cell\n",
    "    6: 10,  # green cell (goal)\n",
    "    7: -20, # red cell\n",
    "    8: -20  # red cell\n",
    "}\n",
    "\n",
    "# fill reward matrix\n",
    "for current_state in range(num_states):\n",
    "    for next_state in range(num_states):\n",
    "        for action in range(num_actions):\n",
    "            if T[next_state][current_state][action] > 0:  # if transition is possible\n",
    "                R[next_state][current_state][action] = cell_rewards[next_state]\n"
   ],
   "outputs": [],
   "execution_count": 4
  },
  {
   "metadata": {},
   "cell_type": "code",
   "outputs": [
    {
     "ename": "SyntaxError",
     "evalue": "invalid syntax (3752407002.py, line 7)",
     "output_type": "error",
     "traceback": [
      "  \u001B[36mCell\u001B[39m\u001B[36m \u001B[39m\u001B[32mIn[11]\u001B[39m\u001B[32m, line 7\u001B[39m\n\u001B[31m    \u001B[39m\u001B[31mP_0 =\u001B[39m\n          ^\n\u001B[31mSyntaxError\u001B[39m\u001B[31m:\u001B[39m invalid syntax\n"
     ]
    }
   ],
   "execution_count": null,
   "source": "\n",
   "id": "1dca8165"
  },
  {
   "cell_type": "code",
   "id": "6aa0769d-4d9a-461f-beb0-1e00cf8dd1b4",
   "metadata": {
    "ExecuteTime": {
     "end_time": "2025-09-19T20:12:35.167702Z",
     "start_time": "2025-09-19T20:12:35.156556Z"
    }
   },
   "source": [
    "# P_0 is simply the initial probability distribution. This represents where your agent is at the beginning.\n",
    "# If there is only one possible start state, the probability distribution is simply a one-hot vector,\n",
    "# where the probability at the start state is 1 and 0 elsewhere.\n",
    "\n",
    "import numpy as np\n",
    "# Start state is cell 0 (0,0)\n",
    "P_0 = np.zeros(num_states)\n",
    "P_0[0] = 1  # Agent starts at cell 0 with probability 1"
   ],
   "outputs": [],
   "execution_count": 5
  },
  {
   "cell_type": "code",
   "id": "515f2f0d-09b1-4bad-9163-73c901ce7d7b",
   "metadata": {
    "ExecuteTime": {
     "end_time": "2025-09-19T20:12:52.595252Z",
     "start_time": "2025-09-19T20:12:51.459458Z"
    }
   },
   "source": [
    "import matrix_mdp\n",
    "import gymnasium as gym\n",
    "env = gym.make('matrix_mdp/MatrixMDP-v0', p_0=P_0, p=T, r=R)\n",
    "\n",
    "#First, we reset the environment and get the initial observation.\n",
    "observation, info = env.reset()"
   ],
   "outputs": [],
   "execution_count": 7
  },
  {
   "cell_type": "code",
   "id": "ca894307-9976-4215-bc81-c751fc00d66d",
   "metadata": {
    "ExecuteTime": {
     "end_time": "2025-09-19T20:12:38.314078Z",
     "start_time": "2025-09-19T20:12:38.264048Z"
    }
   },
   "source": [
    "#First, we reset the environment and get the initial observation.\n",
    "observation, info = env.reset()"
   ],
   "outputs": [
    {
     "ename": "NameError",
     "evalue": "name 'env' is not defined",
     "output_type": "error",
     "traceback": [
      "\u001B[0;31m---------------------------------------------------------------------------\u001B[0m",
      "\u001B[0;31mNameError\u001B[0m                                 Traceback (most recent call last)",
      "Cell \u001B[0;32mIn[6], line 2\u001B[0m\n\u001B[1;32m      1\u001B[0m \u001B[38;5;66;03m#First, we reset the environment and get the initial observation.\u001B[39;00m\n\u001B[0;32m----> 2\u001B[0m observation, info \u001B[38;5;241m=\u001B[39m env\u001B[38;5;241m.\u001B[39mreset()\n",
      "\u001B[0;31mNameError\u001B[0m: name 'env' is not defined"
     ]
    }
   ],
   "execution_count": 6
  },
  {
   "cell_type": "markdown",
   "id": "b07c9c72-19ec-4995-828f-a74b7a32ed3b",
   "metadata": {},
   "source": [
    "Below, write the code for random exploration, i.e. randomly choosing an action at each time step and executing it.\n",
    "\n",
    "A random action is simply a random integer between 0 and the number of actions (num_actions not inclusive).\n",
    "However, you should make sure that the chosen action can actually be taken from the current state (i.e., the chosen action is valid).\n",
    "\n",
    "Keep track of the total reward in each episode, and reset the environment when the episode terminates.\n",
    "\n",
    "Print the average reward obtained over 10000 episodes.\n",
    "\n",
    "**Once again, since we are not training the agent at all, you should expect to see large negative rewards.**"
   ]
  },
  {
   "cell_type": "code",
   "execution_count": null,
   "id": "3f2d1662-ba33-4f01-aec6-88be1cfa8c58",
   "metadata": {},
   "outputs": [],
   "source": [
    "# setting total reward as zero\n",
    "total_rewards = 0.0"
   ]
  },
  {
   "cell_type": "code",
   "id": "1d33a4a4-8b6b-452e-bc71-ec6adfdda8f9",
   "metadata": {
    "ExecuteTime": {
     "end_time": "2025-09-19T20:16:09.106452Z",
     "start_time": "2025-09-19T20:16:06.413717Z"
    }
   },
   "source": [
    "import random\n",
    "\n",
    "# To-Do:\n",
    "# For each episode, collect the reward the agent earns and store it.\n",
    "# After the end of all 10000 episodes, we are going to take the average reward earned by the agent.\n",
    "\n",
    "reward_list = []\n",
    "\n",
    "for i in range(10000):\n",
    "    observation, info = env.reset()\n",
    "    total_rewards = 0\n",
    "    while True:\n",
    "        # Pick an action using the random Python module random until we have a valid action for that cell\n",
    "        # Hint: use states_actions_map in conjunction with the random module\n",
    "        current_state = observation\n",
    "        valid_actions = states_actions_map[current_state]\n",
    "        action = random.choice(valid_actions)\n",
    "\n",
    "        # Get a new observation, reward, terminated and other information here using the env.step() function\n",
    "        observation, reward, terminated, truncated, info = env.step(action)\n",
    "\n",
    "        # Update rewards\n",
    "        total_rewards += reward\n",
    "\n",
    "        # break this loop if we have reached an end state\n",
    "        if terminated or truncated:\n",
    "            break\n",
    "    reward_list.append(total_rewards)\n",
    "\n",
    "# calculate and print the average reward here\n",
    "avg_reward = sum(reward_list) / len(reward_list)\n",
    "print(\"Average reward obtained: \", avg_reward)\n"
   ],
   "outputs": [
    {
     "name": "stdout",
     "output_type": "stream",
     "text": [
      "Average reward obtained:  -51.886\n"
     ]
    }
   ],
   "execution_count": 10
  },
  {
   "cell_type": "markdown",
   "id": "04b22b01-2c98-4ad3-b9c6-6f1d9416868d",
   "metadata": {},
   "source": [
    "Hope this lab helped you understand how to set up and navigate an environment in Gymnasium.\n",
    "As always, please don't hesitate to reach out to the instructor or the TAs if you have any questions!"
   ]
  }
 ],
 "metadata": {
  "kernelspec": {
   "display_name": "cs4100",
   "language": "python",
   "name": "python3"
  },
  "language_info": {
   "codemirror_mode": {
    "name": "ipython",
    "version": 3
   },
   "file_extension": ".py",
   "mimetype": "text/x-python",
   "name": "python",
   "nbconvert_exporter": "python",
   "pygments_lexer": "ipython3",
   "version": "3.11.13"
  }
 },
 "nbformat": 4,
 "nbformat_minor": 5
}
